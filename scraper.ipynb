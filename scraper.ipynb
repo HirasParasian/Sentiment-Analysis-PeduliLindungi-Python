{
 "cells": [
  {
   "cell_type": "markdown",
   "id": "eca86c7e",
   "metadata": {},
   "source": [
    "com.telkom.tracencare"
   ]
  },
  {
   "cell_type": "code",
   "execution_count": 1,
   "id": "3e99f399",
   "metadata": {},
   "outputs": [],
   "source": [
    "from google_play_scraper import app"
   ]
  },
  {
   "cell_type": "code",
   "execution_count": 2,
   "id": "c4da5759",
   "metadata": {},
   "outputs": [],
   "source": [
    "import pandas as pd"
   ]
  },
  {
   "cell_type": "code",
   "execution_count": 3,
   "id": "ad2f11b2",
   "metadata": {},
   "outputs": [],
   "source": [
    "import numpy as np"
   ]
  },
  {
   "cell_type": "code",
   "execution_count": 4,
   "id": "662b327d",
   "metadata": {},
   "outputs": [],
   "source": [
    "from google_play_scraper import Sort, reviews_all"
   ]
  },
  {
   "cell_type": "code",
   "execution_count": 5,
   "id": "63b408e5",
   "metadata": {},
   "outputs": [],
   "source": [
    "from google_play_scraper import app\n",
    "\n",
    "result = app(\n",
    "    'com.telkom.tracencare',\n",
    "    lang='id', # defaults to 'en'\n",
    "    country='id' # defaults to 'us'\n",
    ")\n"
   ]
  },
  {
   "cell_type": "code",
   "execution_count": null,
   "id": "7482fe3f",
   "metadata": {},
   "outputs": [],
   "source": []
  },
  {
   "cell_type": "code",
   "execution_count": 6,
   "id": "4925ce7e",
   "metadata": {},
   "outputs": [],
   "source": [
    "from google_play_scraper import Sort, reviews_all\n",
    "result = reviews_all(\n",
    "    'io.opensea',\n",
    "    sleep_milliseconds=0,\n",
    "    lang='id', \n",
    "    country='id', \n",
    "    sort=Sort.MOST_RELEVANT,\n",
    ")\n",
    "df_busu = pd.DataFrame(np.array(result),columns=['review'])\n",
    "df_busu.to_csv(\"dataPeduliLindungi.csv\", index=False)"
   ]
  },
  {
   "cell_type": "code",
   "execution_count": null,
   "id": "a57bf615",
   "metadata": {},
   "outputs": [],
   "source": []
  },
  {
   "cell_type": "code",
   "execution_count": 7,
   "id": "e138a796",
   "metadata": {},
   "outputs": [],
   "source": [
    "df_busu = pd.DataFrame(np.array(result),columns=['review'])"
   ]
  },
  {
   "cell_type": "code",
   "execution_count": 8,
   "id": "78fd3dd0",
   "metadata": {},
   "outputs": [],
   "source": [
    "df_busu = df_busu.join(pd.DataFrame(df_busu.pop('review').tolist()))\n"
   ]
  },
  {
   "cell_type": "code",
   "execution_count": 9,
   "id": "0981ec36",
   "metadata": {
    "scrolled": true
   },
   "outputs": [
    {
     "data": {
      "text/html": [
       "<div>\n",
       "<style scoped>\n",
       "    .dataframe tbody tr th:only-of-type {\n",
       "        vertical-align: middle;\n",
       "    }\n",
       "\n",
       "    .dataframe tbody tr th {\n",
       "        vertical-align: top;\n",
       "    }\n",
       "\n",
       "    .dataframe thead th {\n",
       "        text-align: right;\n",
       "    }\n",
       "</style>\n",
       "<table border=\"1\" class=\"dataframe\">\n",
       "  <thead>\n",
       "    <tr style=\"text-align: right;\">\n",
       "      <th></th>\n",
       "      <th>reviewId</th>\n",
       "      <th>userName</th>\n",
       "      <th>userImage</th>\n",
       "      <th>content</th>\n",
       "      <th>score</th>\n",
       "      <th>thumbsUpCount</th>\n",
       "      <th>reviewCreatedVersion</th>\n",
       "      <th>at</th>\n",
       "      <th>replyContent</th>\n",
       "      <th>repliedAt</th>\n",
       "    </tr>\n",
       "  </thead>\n",
       "  <tbody>\n",
       "    <tr>\n",
       "      <th>789</th>\n",
       "      <td>gp:AOqpTOHetn4zAtXfVS0gsduq5TWaZP9yI_j5Hw52rkp...</td>\n",
       "      <td>jumar rudin</td>\n",
       "      <td>https://play-lh.googleusercontent.com/a-/AOh14...</td>\n",
       "      <td>Kk</td>\n",
       "      <td>5</td>\n",
       "      <td>0</td>\n",
       "      <td>None</td>\n",
       "      <td>2022-01-21 22:06:50</td>\n",
       "      <td>None</td>\n",
       "      <td>NaT</td>\n",
       "    </tr>\n",
       "    <tr>\n",
       "      <th>790</th>\n",
       "      <td>gp:AOqpTOFzGnWCL6pBNmE0K16CsLkYEYbPMElq3fO9Eke...</td>\n",
       "      <td>Dwi Reno</td>\n",
       "      <td>https://play-lh.googleusercontent.com/a-/AOh14...</td>\n",
       "      <td>Ok</td>\n",
       "      <td>5</td>\n",
       "      <td>0</td>\n",
       "      <td>None</td>\n",
       "      <td>2022-01-24 04:17:48</td>\n",
       "      <td>None</td>\n",
       "      <td>NaT</td>\n",
       "    </tr>\n",
       "    <tr>\n",
       "      <th>791</th>\n",
       "      <td>gp:AOqpTOE0mpUWSSelFZ1p0l7jKqiEIzApW0Q6NxqPm3_...</td>\n",
       "      <td>Kevin Ibrahim</td>\n",
       "      <td>https://play-lh.googleusercontent.com/a/AATXAJ...</td>\n",
       "      <td>Nice</td>\n",
       "      <td>5</td>\n",
       "      <td>0</td>\n",
       "      <td>None</td>\n",
       "      <td>2022-01-24 11:07:45</td>\n",
       "      <td>None</td>\n",
       "      <td>NaT</td>\n",
       "    </tr>\n",
       "    <tr>\n",
       "      <th>792</th>\n",
       "      <td>gp:AOqpTOEvV4K0nLIJi1GIDtwGd6TLX9zrVdFV339hb8D...</td>\n",
       "      <td>EPU DEDE</td>\n",
       "      <td>https://play-lh.googleusercontent.com/a-/AOh14...</td>\n",
       "      <td>Good</td>\n",
       "      <td>5</td>\n",
       "      <td>0</td>\n",
       "      <td>None</td>\n",
       "      <td>2022-01-24 12:29:28</td>\n",
       "      <td>None</td>\n",
       "      <td>NaT</td>\n",
       "    </tr>\n",
       "    <tr>\n",
       "      <th>793</th>\n",
       "      <td>gp:AOqpTOE4WuB5EurGRpDacxSmWtRUOuAfDmeleOv8yKo...</td>\n",
       "      <td>HakiMaiden Coco</td>\n",
       "      <td>https://play-lh.googleusercontent.com/a-/AOh14...</td>\n",
       "      <td>Nice</td>\n",
       "      <td>5</td>\n",
       "      <td>0</td>\n",
       "      <td>None</td>\n",
       "      <td>2022-01-25 01:02:26</td>\n",
       "      <td>None</td>\n",
       "      <td>NaT</td>\n",
       "    </tr>\n",
       "  </tbody>\n",
       "</table>\n",
       "</div>"
      ],
      "text/plain": [
       "                                              reviewId         userName  \\\n",
       "789  gp:AOqpTOHetn4zAtXfVS0gsduq5TWaZP9yI_j5Hw52rkp...      jumar rudin   \n",
       "790  gp:AOqpTOFzGnWCL6pBNmE0K16CsLkYEYbPMElq3fO9Eke...         Dwi Reno   \n",
       "791  gp:AOqpTOE0mpUWSSelFZ1p0l7jKqiEIzApW0Q6NxqPm3_...    Kevin Ibrahim   \n",
       "792  gp:AOqpTOEvV4K0nLIJi1GIDtwGd6TLX9zrVdFV339hb8D...         EPU DEDE   \n",
       "793  gp:AOqpTOE4WuB5EurGRpDacxSmWtRUOuAfDmeleOv8yKo...  HakiMaiden Coco   \n",
       "\n",
       "                                             userImage content  score  \\\n",
       "789  https://play-lh.googleusercontent.com/a-/AOh14...      Kk      5   \n",
       "790  https://play-lh.googleusercontent.com/a-/AOh14...      Ok      5   \n",
       "791  https://play-lh.googleusercontent.com/a/AATXAJ...    Nice      5   \n",
       "792  https://play-lh.googleusercontent.com/a-/AOh14...    Good      5   \n",
       "793  https://play-lh.googleusercontent.com/a-/AOh14...    Nice      5   \n",
       "\n",
       "     thumbsUpCount reviewCreatedVersion                  at replyContent  \\\n",
       "789              0                 None 2022-01-21 22:06:50         None   \n",
       "790              0                 None 2022-01-24 04:17:48         None   \n",
       "791              0                 None 2022-01-24 11:07:45         None   \n",
       "792              0                 None 2022-01-24 12:29:28         None   \n",
       "793              0                 None 2022-01-25 01:02:26         None   \n",
       "\n",
       "    repliedAt  \n",
       "789       NaT  \n",
       "790       NaT  \n",
       "791       NaT  \n",
       "792       NaT  \n",
       "793       NaT  "
      ]
     },
     "execution_count": 9,
     "metadata": {},
     "output_type": "execute_result"
    }
   ],
   "source": [
    "df_busu.tail()"
   ]
  },
  {
   "cell_type": "code",
   "execution_count": 10,
   "id": "0eed590e",
   "metadata": {},
   "outputs": [],
   "source": [
    "df_busu.to_csv(\"dataPedulilindungii.csv\", index=False)"
   ]
  },
  {
   "cell_type": "code",
   "execution_count": null,
   "id": "191ec8a4",
   "metadata": {},
   "outputs": [],
   "source": []
  },
  {
   "cell_type": "code",
   "execution_count": null,
   "id": "ddbaccd4",
   "metadata": {},
   "outputs": [],
   "source": []
  }
 ],
 "metadata": {
  "kernelspec": {
   "display_name": "Python 3 (ipykernel)",
   "language": "python",
   "name": "python3"
  },
  "language_info": {
   "codemirror_mode": {
    "name": "ipython",
    "version": 3
   },
   "file_extension": ".py",
   "mimetype": "text/x-python",
   "name": "python",
   "nbconvert_exporter": "python",
   "pygments_lexer": "ipython3",
   "version": "3.9.6"
  }
 },
 "nbformat": 4,
 "nbformat_minor": 5
}
